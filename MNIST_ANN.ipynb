{
 "cells": [
  {
   "cell_type": "markdown",
   "metadata": {},
   "source": [
    "# Libraries"
   ]
  },
  {
   "cell_type": "code",
   "execution_count": 5,
   "metadata": {},
   "outputs": [],
   "source": [
    "import numpy\n",
    "# spicy.special for the sigmoid function expit()\n",
    "import scipy.special\n",
    "# library for plotting arrays\n",
    "import matplotlib.pyplot\n",
    "# ensure the plots are inside this notebook, not an external widow.\n",
    "%matplotlib inline"
   ]
  },
  {
   "cell_type": "markdown",
   "metadata": {},
   "source": [
    "# Script"
   ]
  },
  {
   "cell_type": "code",
   "execution_count": 6,
   "metadata": {},
   "outputs": [],
   "source": [
    "# Artificial Neural Network Class definition\n",
    "class neuralNetwork:\n",
    "\n",
    "    # initialise the neural network (with these parameters)\n",
    "    def __init__(self, inputnodes, hiddennodes, outputnodes, learningrate):\n",
    "\n",
    "        # set the number of nodes in each input, hidden, output layer\n",
    "        self.inodes = inputnodes\n",
    "        self.hnodes = hiddennodes\n",
    "        self.onodes = outputnodes\n",
    "\n",
    "        # link weights matrices, Wih & Who\n",
    "        # weights inside the arrays are w_i_j, where the link is from \n",
    "        # node i to node j in the next layer\n",
    "        # W11 -> W21\n",
    "        # W12 -> W22, etc.\n",
    "\n",
    "        # weights from input to hidden layer\n",
    "        self.wih = numpy.random.normal(0.0, pow(self.inodes, -0.5), (self.hnodes, self.inodes))\n",
    "        # weights from hidden to output layer\n",
    "        self.who = numpy.random.normal(0.0, pow(self.hnodes, -0.5), (self.onodes, self.hnodes))\n",
    "        \n",
    "        # set the learning rate\n",
    "        self.lr = learningrate\n",
    "\n",
    "        # Activation function / Sigmoid - using scipy.special (library/ module) \n",
    "        self.activation_function = lambda x: scipy.special.expit(x)\n",
    "\n",
    "        pass\n",
    "\n",
    "    # train the neural network\n",
    "    def train(self, inputs_list, target_list):\n",
    "\n",
    "        # Converts inputs lists into a 2D array\n",
    "        inputs = numpy.array(inputs_list, ndmin=2).T\n",
    "        targets = numpy.array(target_list, ndmin=2).T\n",
    "\n",
    "        # Calculate signals that I'll pass into the activation \n",
    "        # function in the hidden layer\n",
    "        hidden_inputs = numpy.dot(self.wih, inputs)\n",
    "        # Calculate the signal emergin from the hidden layer \n",
    "        hidden_outputs = self.activation_function(hidden_inputs)\n",
    "\n",
    "        # Calculate signals that I'll pass into the activation \n",
    "        # function in the final output layer\n",
    "        final_inputs = numpy.dot(self.who, hidden_outputs)\n",
    "        # Calculate the signals emergin fron the output layer / The Final Output\n",
    "        final_outputs = self.activation_function(final_inputs)\n",
    "\n",
    "        # Calculate the error wich is (target - actual)\n",
    "        output_errors = targets - final_outputs \n",
    "\n",
    "        # Hidden layer error\n",
    "        hidden_errors = numpy.dot(self.who.T, output_errors)\n",
    "\n",
    "        # Update the weights for the links between the hidden and output layers\n",
    "        self.who += self.lr * numpy.dot((output_errors *  final_outputs * (1.0 - final_outputs)), numpy.transpose(hidden_outputs))\n",
    "        # Update the weights for the links between the input and hidden layers\n",
    "        self.wih += self.lr * numpy.dot((hidden_errors * hidden_outputs * (1.0 - hidden_outputs)), numpy.transpose(inputs))\n",
    "        \n",
    "        pass\n",
    "\n",
    "    # query the neural network \n",
    "    # give an answer from the output nodes after being given an input\n",
    "    def query(self, inputs_list):\n",
    "\n",
    "        # Convert input list into a 2d array\n",
    "        inputs = numpy.array(inputs_list, ndmin=2).T\n",
    "\n",
    "        #  Calculate signals into hidden layer (input * weights)\n",
    "        hidden_inputs = numpy.dot(self.wih, inputs)\n",
    "        # Calculate the signals emerging from the hidden layers\n",
    "        hidden_outputs = self.activation_function(hidden_inputs)\n",
    "\n",
    "        # Calculate signals into final output layer\n",
    "        final_inputs = numpy.dot(self.who, hidden_outputs)\n",
    "        # Calculate the signals emerging from the final output layer\n",
    "        final_outputs = self.activation_function(final_inputs)\n",
    "\n",
    "        return final_outputs"
   ]
  },
  {
   "cell_type": "markdown",
   "metadata": {},
   "source": [
    "# Training"
   ]
  },
  {
   "cell_type": "code",
   "execution_count": 7,
   "metadata": {},
   "outputs": [],
   "source": [
    "# number of input, hidden and output nodes \n",
    "input_nodes = 784\n",
    "hidden_nodes = 100\n",
    "output_nodes = 10\n",
    "\n",
    "# learning rate is 0.3\n",
    "learning_rate = 0.2\n",
    "\n",
    "# create instance of neural network\n",
    "n = neuralNetwork(input_nodes, hidden_nodes, output_nodes, learning_rate)\n",
    "\n",
    "# load the MNIST training data CSV file into a list\n",
    "training_data_file = open(\"mnist_dataset\\mnist_train.csv\", \"r\")\n",
    "training_data_list = training_data_file.readlines()\n",
    "training_data_file.close()\n",
    "\n",
    "# train the ANN with epocs \n",
    "EPOCS = 7\n",
    "\n",
    "for e in range(EPOCS):\n",
    "    # go through all records in the training data set\n",
    "    for record in training_data_list:\n",
    "\n",
    "        # split the record by the ',' commas\n",
    "        all_values = record.split(\",\")\n",
    "\n",
    "        # scale and shift the inputs\n",
    "        # Dividing the raw inputs which are in the range 0-255 by 255 bring them into the\n",
    "        # range 0-1. We then need to multiply by 0.99 too bring them into the range 0.0-0.99.\n",
    "        # We then add 0.01 to shift them up the desire range 0.01 to 1.00.\n",
    "        inputs = (numpy.asfarray(all_values[1:]) / 255.0 * 0.99) + 0.01\n",
    "\n",
    "        # create the target output values (all 0.01, except the desired label wich is 0.99)\n",
    "        targets = numpy.zeros(output_nodes) + 0.01\n",
    "        # all_values[0] is the target label for this record\n",
    "        targets[int(all_values[0])] = 0.99\n",
    "        n.train(inputs, targets)\n",
    "        pass\n",
    "    pass"
   ]
  },
  {
   "cell_type": "markdown",
   "metadata": {},
   "source": [
    "# Test"
   ]
  },
  {
   "cell_type": "code",
   "execution_count": 8,
   "metadata": {},
   "outputs": [
    {
     "name": "stdout",
     "output_type": "stream",
     "text": [
      "performance =  0.9566\n"
     ]
    }
   ],
   "source": [
    "# load the MNIST dataset CSV file into a list \n",
    "test_data_file = open(\"mnist_dataset\\mnist_test.csv\", \"r\")\n",
    "# .readlines() - Return all lines in the file, as a list where each line is an item in the list object\n",
    "test_data_list = test_data_file.readlines()\n",
    "test_data_file.close\n",
    "\n",
    "# Test the ANN / without showing results \n",
    "\n",
    "# Scorecard for how well the network performs, initially empty \n",
    "scorecard = []\n",
    "\n",
    "# Go through all the records in the test dataset\n",
    "for record in test_data_list:\n",
    "\n",
    "    all_values = record.split(\",\")\n",
    "\n",
    "    correct_label = int(all_values[0])\n",
    "\n",
    "    # Query the ANN \n",
    "    outputs = n.query(((numpy.asfarray(all_values[1:]) / 255.0 * 0.99) + 0.01))\n",
    "\n",
    "    # The index of the highest value correspond to the label\n",
    "    label = numpy.argmax(outputs)\n",
    "\n",
    "    # append correct or incorrect to list\n",
    "    if(label == correct_label):\n",
    "        scorecard.append(1)\n",
    "    else:\n",
    "        scorecard.append(0)\n",
    "        pass\n",
    "    pass\n",
    "\n",
    "scorecard_array = numpy.asarray(scorecard)\n",
    "print(\"performance = \", scorecard_array.sum() / scorecard_array.size)"
   ]
  },
  {
   "cell_type": "markdown",
   "metadata": {},
   "source": [
    "# Test with my| own images"
   ]
  },
  {
   "cell_type": "code",
   "execution_count": 9,
   "metadata": {},
   "outputs": [
    {
     "name": "stdout",
     "output_type": "stream",
     "text": [
      "Pillow version: 9.3.0\n"
     ]
    }
   ],
   "source": [
    "import PIL\n",
    "print(\"Pillow version:\", PIL.__version__)"
   ]
  },
  {
   "cell_type": "markdown",
   "metadata": {},
   "source": [
    "**Path**"
   ]
  },
  {
   "cell_type": "code",
   "execution_count": 10,
   "metadata": {},
   "outputs": [],
   "source": [
    "image_path = r\"Fotos\\reshaped_images\\WIN_20221116_20_35_58_Pro.jpg\""
   ]
  },
  {
   "cell_type": "code",
   "execution_count": 11,
   "metadata": {},
   "outputs": [
    {
     "name": "stdout",
     "output_type": "stream",
     "text": [
      "None\n",
      "(28, 28)\n",
      "L\n"
     ]
    }
   ],
   "source": [
    "# Load an image\n",
    "\n",
    "# load and show an image with Pillow\n",
    "from PIL import Image\n",
    "# Open the image form working directory\n",
    "image = Image.open(image_path).convert(\"L\")\n",
    "# summarize some details about the image\n",
    "print(image.format)\n",
    "print(image.size)\n",
    "print(image.mode)\n",
    "\n",
    "# this opens the .png file\n",
    "# image.show()\n"
   ]
  },
  {
   "cell_type": "code",
   "execution_count": 12,
   "metadata": {},
   "outputs": [
    {
     "name": "stdout",
     "output_type": "stream",
     "text": [
      "uint8\n",
      "(28, 28, 3)\n"
     ]
    },
    {
     "data": {
      "image/png": "[encoded data removed]",
      "text/plain": [
       "<Figure size 640x480 with 1 Axes>"
      ]
     },
     "metadata": {},
     "output_type": "display_data"
    }
   ],
   "source": [
    "# load and display an image with Matplotlib\n",
    "from matplotlib import image\n",
    "from matplotlib import pyplot\n",
    "# load image as pixel array\n",
    "image = image.imread(image_path)\n",
    "# summarize shape of the pixel array\n",
    "print(image.dtype)\n",
    "print(image.shape)\n",
    "# display the array of pixels as an image\n",
    "pyplot.imshow(image)\n",
    "pyplot.show()"
   ]
  },
  {
   "cell_type": "code",
   "execution_count": 13,
   "metadata": {},
   "outputs": [],
   "source": [
    "# 402 pixels wide, 402 pixels high, 3 denotes color chanels for RGB (red, green & blue) "
   ]
  },
  {
   "cell_type": "code",
   "execution_count": 14,
   "metadata": {},
   "outputs": [
    {
     "name": "stdout",
     "output_type": "stream",
     "text": [
      "<class 'numpy.ndarray'>\n",
      "(28, 28)\n"
     ]
    }
   ],
   "source": [
    "# Convert to NumPy Array \n",
    "\n",
    "from numpy import asfarray\n",
    "# load the image\n",
    "image = Image.open(image_path).convert(\"L\")\n",
    "# convert image to numpy array\n",
    "data = asfarray(image)\n",
    "print(type(data))\n",
    "# summarize shape\n",
    "print(data.shape)"
   ]
  },
  {
   "cell_type": "code",
   "execution_count": 15,
   "metadata": {},
   "outputs": [],
   "source": [
    "img_data = 255.0 - data.reshape(784)\n",
    "img_data = (img_data / 255.0 * 0.99) + 0.01 "
   ]
  },
  {
   "cell_type": "code",
   "execution_count": 16,
   "metadata": {},
   "outputs": [
    {
     "name": "stdout",
     "output_type": "stream",
     "text": [
      "El número ingresado es un: 8\n"
     ]
    }
   ],
   "source": [
    "inputs = img_data\n",
    "\n",
    "# Query the ANN \n",
    "outputs = n.query(inputs)\n",
    "\n",
    "# The index of the highest value correspond to the label\n",
    "label = numpy.argmax(outputs)\n",
    "print(\"El número ingresado es un:\",label)"
   ]
  },
  {
   "cell_type": "code",
   "execution_count": 17,
   "metadata": {},
   "outputs": [
    {
     "name": "stdout",
     "output_type": "stream",
     "text": [
      "0.2727272727272727\n"
     ]
    }
   ],
   "source": [
    "# NOTE\n",
    "# label 1 - output 1 - good \n",
    "# label 2 - output 2 - good\n",
    "# label 3 - output 9 - bad\n",
    "# label 4 - output 4 - good \n",
    "# label 4 - output 9 - bad \n",
    "# label 5 - output 7 - bad \n",
    "# label 6 - output 4 - bad \n",
    "# label 7 - output 3 - bad \n",
    "# label 8 - output 5 - bad \n",
    "# label 9 - output 1 - bad\n",
    "# label 7 - output 5 - bad\n",
    "\n",
    "# Acuraccy\n",
    "print(float(3 / 11))"
   ]
  },
  {
   "cell_type": "markdown",
   "metadata": {},
   "source": [
    "# Trying Test with a loop"
   ]
  },
  {
   "cell_type": "code",
   "execution_count": 18,
   "metadata": {},
   "outputs": [],
   "source": [
    "# for reading images \n",
    "import PIL\n",
    "# for plot\n",
    "from matplotlib import image\n",
    "from matplotlib import pyplot\n",
    "# to convert arrays into float arrays\n",
    "from numpy import asfarray"
   ]
  },
  {
   "cell_type": "markdown",
   "metadata": {},
   "source": [
    "list of paths"
   ]
  },
  {
   "cell_type": "code",
   "execution_count": 19,
   "metadata": {},
   "outputs": [],
   "source": [
    "paths = [r\"Fotos\\reshaped_images\\20221116_165238000_iOS.jpg\",\n",
    "r\"Fotos\\reshaped_images\\20221116_165251000_iOS.jpg\",\n",
    "r\"Fotos\\reshaped_images\\20221116_165313000_iOS.jpg\",\n",
    "r\"Fotos\\reshaped_images\\20221116_165326000_iOS.jpg\",\n",
    "r\"Fotos\\reshaped_images\\20221116_165337000_iOS.jpg\",\n",
    "r\"Fotos\\reshaped_images\\20221116_165359000_iOS.jpg\",\n",
    "r\"Fotos\\reshaped_images\\20221116_165421000_iOS.jpg\",\n",
    "r\"Fotos\\reshaped_images\\20221116_165437000_iOS.jpg\",\n",
    "r\"Fotos\\reshaped_images\\20221116_165447000_iOS.jpg\",\n",
    "r\"Fotos\\reshaped_images\\20221116_165459000_iOS.jpg\",\n",
    "r\"Fotos\\reshaped_images\\20221116_165517000_iOS.jpg\",]"
   ]
  },
  {
   "cell_type": "code",
   "execution_count": 20,
   "metadata": {},
   "outputs": [],
   "source": [
    "labels = [1, 2, 3, 4, 4, 5, 6, 7, 8, 9, 7]"
   ]
  },
  {
   "cell_type": "code",
   "execution_count": 21,
   "metadata": {},
   "outputs": [
    {
     "data": {
      "image/png": "[encoded data removed]",
      "text/plain": [
       "<Figure size 640x480 with 1 Axes>"
      ]
     },
     "metadata": {},
     "output_type": "display_data"
    },
    {
     "name": "stdout",
     "output_type": "stream",
     "text": [
      "ANN prediction: 1 - Real number: 1\n"
     ]
    },
    {
     "data": {
      "image/png": "[encoded data removed]",
      "text/plain": [
       "<Figure size 640x480 with 1 Axes>"
      ]
     },
     "metadata": {},
     "output_type": "display_data"
    },
    {
     "name": "stdout",
     "output_type": "stream",
     "text": [
      "ANN prediction: 2 - Real number: 2\n"
     ]
    },
    {
     "data": {
      "image/png": "[encoded data removed]",
      "text/plain": [
       "<Figure size 640x480 with 1 Axes>"
      ]
     },
     "metadata": {},
     "output_type": "display_data"
    },
    {
     "name": "stdout",
     "output_type": "stream",
     "text": [
      "ANN prediction: 9 - Real number: 3\n"
     ]
    },
    {
     "data": {
      "image/png": "[encoded data removed]",
      "text/plain": [
       "<Figure size 640x480 with 1 Axes>"
      ]
     },
     "metadata": {},
     "output_type": "display_data"
    },
    {
     "name": "stdout",
     "output_type": "stream",
     "text": [
      "ANN prediction: 4 - Real number: 4\n"
     ]
    },
    {
     "data": {
      "image/png": "[encoded data removed]",
      "text/plain": [
       "<Figure size 640x480 with 1 Axes>"
      ]
     },
     "metadata": {},
     "output_type": "display_data"
    },
    {
     "name": "stdout",
     "output_type": "stream",
     "text": [
      "ANN prediction: 9 - Real number: 4\n"
     ]
    },
    {
     "data": {
      "image/png": "[encoded data removed]",
      "text/plain": [
       "<Figure size 640x480 with 1 Axes>"
      ]
     },
     "metadata": {},
     "output_type": "display_data"
    },
    {
     "name": "stdout",
     "output_type": "stream",
     "text": [
      "ANN prediction: 7 - Real number: 5\n"
     ]
    },
    {
     "data": {
      "image/png": "[encoded data removed]",
      "text/plain": [
       "<Figure size 640x480 with 1 Axes>"
      ]
     },
     "metadata": {},
     "output_type": "display_data"
    },
    {
     "name": "stdout",
     "output_type": "stream",
     "text": [
      "ANN prediction: 4 - Real number: 6\n"
     ]
    },
    {
     "data": {
      "image/png": "[encoded data removed]",
      "text/plain": [
       "<Figure size 640x480 with 1 Axes>"
      ]
     },
     "metadata": {},
     "output_type": "display_data"
    },
    {
     "name": "stdout",
     "output_type": "stream",
     "text": [
      "ANN prediction: 8 - Real number: 7\n"
     ]
    },
    {
     "data": {
      "image/png": "[encoded data removed]",
      "text/plain": [
       "<Figure size 640x480 with 1 Axes>"
      ]
     },
     "metadata": {},
     "output_type": "display_data"
    },
    {
     "name": "stdout",
     "output_type": "stream",
     "text": [
      "ANN prediction: 5 - Real number: 8\n"
     ]
    },
    {
     "data": {
      "image/png": "[encoded data removed]",
      "text/plain": [
       "<Figure size 640x480 with 1 Axes>"
      ]
     },
     "metadata": {},
     "output_type": "display_data"
    },
    {
     "name": "stdout",
     "output_type": "stream",
     "text": [
      "ANN prediction: 9 - Real number: 9\n"
     ]
    },
    {
     "data": {
      "image/png": "[encoded data removed]",
      "text/plain": [
       "<Figure size 640x480 with 1 Axes>"
      ]
     },
     "metadata": {},
     "output_type": "display_data"
    },
    {
     "name": "stdout",
     "output_type": "stream",
     "text": [
      "ANN prediction: 3 - Real number: 7\n"
     ]
    }
   ],
   "source": [
    "cont = 0\n",
    "scorecard = []\n",
    "for path in paths:\n",
    "    \n",
    "    # Open the image form working directory\n",
    "    image = Image.open(path).convert(\"L\")\n",
    "\n",
    "    # display the array of pixels as an image\n",
    "    pyplot.imshow(image)\n",
    "    pyplot.show()\n",
    "\n",
    "    # convert image to numpy array\n",
    "    data = asfarray(image)\n",
    "\n",
    "    # reshape and scale the inputs\n",
    "    img_data = 255.0 - data.reshape(784)\n",
    "    img_data = (img_data / 255.0 * 0.99) + 0.01 \n",
    "\n",
    "    inputs = img_data\n",
    "    # Query the ANN \n",
    "    outputs = n.query(inputs)\n",
    "\n",
    "    # The index of the highest value correspond to the label\n",
    "    label = numpy.argmax(outputs)\n",
    "    print(\"ANN prediction:\",label, \"- Real number:\", labels[cont])\n",
    "\n",
    "    if label == labels[cont]:\n",
    "        scorecard.append(1)\n",
    "    else:\n",
    "        scorecard.append(0)\n",
    "\n",
    "    cont += 1"
   ]
  },
  {
   "cell_type": "code",
   "execution_count": 22,
   "metadata": {},
   "outputs": [
    {
     "name": "stdout",
     "output_type": "stream",
     "text": [
      "[1, 1, 0, 1, 0, 0, 0, 0, 0, 1, 0]\n",
      "performance =  0.36363636363636365\n"
     ]
    }
   ],
   "source": [
    "print(scorecard)\n",
    "# calculate performance\n",
    "scorecard_array = numpy.asarray(scorecard)\n",
    "print(\"performance = \", scorecard_array.sum() / scorecard_array.size)"
   ]
  },
  {
   "cell_type": "code",
   "execution_count": 23,
   "metadata": {},
   "outputs": [],
   "source": [
    "# Sacar una cita del INE a mi mamá el miercoles en la tarde, despues de las 5."
   ]
  }
 ],
 "metadata": {
  "kernelspec": {
   "display_name": "Python 3.10.1 64-bit",
   "language": "python",
   "name": "python3"
  },
  "language_info": {
   "codemirror_mode": {
    "name": "ipython",
    "version": 3
   },
   "file_extension": ".py",
   "mimetype": "text/x-python",
   "name": "python",
   "nbconvert_exporter": "python",
   "pygments_lexer": "ipython3",
   "version": "3.10.1 (tags/v3.10.1:2cd268a, Dec  6 2021, 19:10:37) [MSC v.1929 64 bit (AMD64)]"
  },
  "orig_nbformat": 4,
  "vscode": {
   "interpreter": {
    "hash": "4745e5b80eb14f22eb34ef4106da0fc71c6310d6971acc1c8982cff4baf4181d"
   }
  }
 },
 "nbformat": 4,
 "nbformat_minor": 2
}
